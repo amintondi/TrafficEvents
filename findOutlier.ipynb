{
  "cells": [
    {
      "cell_type": "markdown",
      "metadata": {
        "id": "59dzCM5T4hH5"
      },
      "source": [
        "**نصب کتابخونه های مورد نیاز**"
      ]
    },
    {
      "cell_type": "code",
      "execution_count": null,
      "metadata": {
        "colab": {
          "base_uri": "https://localhost:8080/"
        },
        "collapsed": true,
        "id": "KKRtlOFr_BnB",
        "outputId": "645da44a-0600-4fbb-d596-3dcb57896165"
      },
      "outputs": [
        {
          "name": "stdout",
          "output_type": "stream",
          "text": [
            "fatal: destination path 'rapidsai-csp-utils' already exists and is not an empty directory.\n",
            "Installing RAPIDS Stable 25.04\n",
            "Looking in indexes: https://pypi.org/simple, https://pypi.nvidia.com\n",
            "Requirement already satisfied: cudf-cu12==25.04.* in /usr/local/lib/python3.11/dist-packages (25.4.0)\n",
            "Requirement already satisfied: cuml-cu12==25.04.* in /usr/local/lib/python3.11/dist-packages (25.4.0)\n",
            "Requirement already satisfied: cugraph-cu12==25.04.* in /usr/local/lib/python3.11/dist-packages (25.4.1)\n",
            "Requirement already satisfied: cuspatial-cu12==25.04.* in /usr/local/lib/python3.11/dist-packages (25.4.0)\n",
            "Requirement already satisfied: cuproj-cu12==25.04.* in /usr/local/lib/python3.11/dist-packages (25.4.0)\n",
            "Requirement already satisfied: cuxfilter-cu12==25.04.* in /usr/local/lib/python3.11/dist-packages (25.4.0)\n",
            "Requirement already satisfied: cucim-cu12==25.04.* in /usr/local/lib/python3.11/dist-packages (25.4.0)\n",
            "Requirement already satisfied: pylibraft-cu12==25.04.* in /usr/local/lib/python3.11/dist-packages (25.4.0)\n",
            "Requirement already satisfied: raft-dask-cu12==25.04.* in /usr/local/lib/python3.11/dist-packages (25.4.0)\n",
            "Requirement already satisfied: nx-cugraph-cu12==25.04.* in /usr/local/lib/python3.11/dist-packages (25.4.0)\n",
            "Requirement already satisfied: aiohttp in /usr/local/lib/python3.11/dist-packages (3.12.15)\n",
            "Requirement already satisfied: cachetools in /usr/local/lib/python3.11/dist-packages (from cudf-cu12==25.04.*) (5.5.2)\n",
            "Requirement already satisfied: cuda-python<13.0a0,>=12.6.2 in /usr/local/lib/python3.11/dist-packages (from cudf-cu12==25.04.*) (12.6.2.post1)\n",
            "Requirement already satisfied: cupy-cuda12x>=12.0.0 in /usr/local/lib/python3.11/dist-packages (from cudf-cu12==25.04.*) (13.3.0)\n",
            "Requirement already satisfied: fsspec>=0.6.0 in /usr/local/lib/python3.11/dist-packages (from cudf-cu12==25.04.*) (2025.3.0)\n",
            "Requirement already satisfied: libcudf-cu12==25.4.* in /usr/local/lib/python3.11/dist-packages (from cudf-cu12==25.04.*) (25.4.0)\n",
            "Requirement already satisfied: numba-cuda<0.5.0a0,>=0.4.0 in /usr/local/lib/python3.11/dist-packages (from cudf-cu12==25.04.*) (0.4.0)\n",
            "Requirement already satisfied: numba<0.62.0a0,>=0.59.1 in /usr/local/lib/python3.11/dist-packages (from cudf-cu12==25.04.*) (0.60.0)\n",
            "Requirement already satisfied: numpy<3.0a0,>=1.23 in /usr/local/lib/python3.11/dist-packages (from cudf-cu12==25.04.*) (2.0.2)\n",
            "Requirement already satisfied: nvtx>=0.2.1 in /usr/local/lib/python3.11/dist-packages (from cudf-cu12==25.04.*) (0.2.13)\n",
            "Requirement already satisfied: packaging in /usr/local/lib/python3.11/dist-packages (from cudf-cu12==25.04.*) (25.0)\n",
            "Requirement already satisfied: pandas<2.2.4dev0,>=2.0 in /usr/local/lib/python3.11/dist-packages (from cudf-cu12==25.04.*) (2.2.2)\n",
            "Requirement already satisfied: pyarrow<20.0.0a0,>=14.0.0 in /usr/local/lib/python3.11/dist-packages (from cudf-cu12==25.04.*) (18.1.0)\n",
            "Requirement already satisfied: pylibcudf-cu12==25.4.* in /usr/local/lib/python3.11/dist-packages (from cudf-cu12==25.04.*) (25.4.0)\n",
            "Requirement already satisfied: pynvjitlink-cu12 in /usr/local/lib/python3.11/dist-packages (from cudf-cu12==25.04.*) (0.7.0)\n",
            "Requirement already satisfied: rich in /usr/local/lib/python3.11/dist-packages (from cudf-cu12==25.04.*) (13.9.4)\n",
            "Requirement already satisfied: rmm-cu12==25.4.* in /usr/local/lib/python3.11/dist-packages (from cudf-cu12==25.04.*) (25.4.0)\n",
            "Requirement already satisfied: typing_extensions>=4.0.0 in /usr/local/lib/python3.11/dist-packages (from cudf-cu12==25.04.*) (4.14.1)\n",
            "Requirement already satisfied: cuvs-cu12==25.4.* in /usr/local/lib/python3.11/dist-packages (from cuml-cu12==25.04.*) (25.4.0)\n",
            "Requirement already satisfied: dask-cuda==25.4.* in /usr/local/lib/python3.11/dist-packages (from cuml-cu12==25.04.*) (25.4.0)\n",
            "Requirement already satisfied: dask-cudf-cu12==25.4.* in /usr/local/lib/python3.11/dist-packages (from cuml-cu12==25.04.*) (25.4.0)\n",
            "Requirement already satisfied: joblib>=0.11 in /usr/local/lib/python3.11/dist-packages (from cuml-cu12==25.04.*) (1.5.1)\n",
            "Requirement already satisfied: libcuml-cu12==25.4.* in /usr/local/lib/python3.11/dist-packages (from cuml-cu12==25.04.*) (25.4.0)\n",
            "Requirement already satisfied: nvidia-cublas-cu12 in /usr/local/lib/python3.11/dist-packages (from cuml-cu12==25.04.*) (12.5.3.2)\n",
            "Requirement already satisfied: nvidia-cufft-cu12 in /usr/local/lib/python3.11/dist-packages (from cuml-cu12==25.04.*) (11.2.3.61)\n",
            "Requirement already satisfied: nvidia-curand-cu12 in /usr/local/lib/python3.11/dist-packages (from cuml-cu12==25.04.*) (10.3.6.82)\n",
            "Requirement already satisfied: nvidia-cusolver-cu12 in /usr/local/lib/python3.11/dist-packages (from cuml-cu12==25.04.*) (11.6.3.83)\n",
            "Requirement already satisfied: nvidia-cusparse-cu12 in /usr/local/lib/python3.11/dist-packages (from cuml-cu12==25.04.*) (12.5.1.3)\n",
            "Requirement already satisfied: rapids-dask-dependency==25.4.* in /usr/local/lib/python3.11/dist-packages (from cuml-cu12==25.04.*) (25.4.0)\n",
            "Requirement already satisfied: scipy>=1.8.0 in /usr/local/lib/python3.11/dist-packages (from cuml-cu12==25.04.*) (1.16.1)\n",
            "Requirement already satisfied: treelite==4.4.1 in /usr/local/lib/python3.11/dist-packages (from cuml-cu12==25.04.*) (4.4.1)\n",
            "Requirement already satisfied: libcugraph-cu12==25.4.* in /usr/local/lib/python3.11/dist-packages (from cugraph-cu12==25.04.*) (25.4.1)\n",
            "Requirement already satisfied: pylibcugraph-cu12==25.4.* in /usr/local/lib/python3.11/dist-packages (from cugraph-cu12==25.04.*) (25.4.1)\n",
            "Requirement already satisfied: ucx-py-cu12==0.43.* in /usr/local/lib/python3.11/dist-packages (from cugraph-cu12==25.04.*) (0.43.0)\n",
            "Requirement already satisfied: geopandas>=1.0.0 in /usr/local/lib/python3.11/dist-packages (from cuspatial-cu12==25.04.*) (1.1.1)\n",
            "Requirement already satisfied: libcuspatial-cu12==25.4.* in /usr/local/lib/python3.11/dist-packages (from cuspatial-cu12==25.04.*) (25.4.0)\n",
            "Requirement already satisfied: bokeh<=3.6.3,>=3.1 in /usr/local/lib/python3.11/dist-packages (from cuxfilter-cu12==25.04.*) (3.6.3)\n",
            "Requirement already satisfied: datashader>=0.15 in /usr/local/lib/python3.11/dist-packages (from cuxfilter-cu12==25.04.*) (0.18.2)\n",
            "Requirement already satisfied: holoviews>=1.16.0 in /usr/local/lib/python3.11/dist-packages (from cuxfilter-cu12==25.04.*) (1.21.0)\n",
            "Requirement already satisfied: jupyter-server-proxy in /usr/local/lib/python3.11/dist-packages (from cuxfilter-cu12==25.04.*) (4.4.0)\n",
            "Requirement already satisfied: panel>=1.0 in /usr/local/lib/python3.11/dist-packages (from cuxfilter-cu12==25.04.*) (1.7.5)\n",
            "Requirement already satisfied: shapely<2.1.0 in /usr/local/lib/python3.11/dist-packages (from cuxfilter-cu12==25.04.*) (2.0.7)\n",
            "Requirement already satisfied: click in /usr/local/lib/python3.11/dist-packages (from cucim-cu12==25.04.*) (8.2.1)\n",
            "Requirement already satisfied: lazy-loader>=0.4 in /usr/local/lib/python3.11/dist-packages (from cucim-cu12==25.04.*) (0.4)\n",
            "Requirement already satisfied: scikit-image<0.26.0a0,>=0.19.0 in /usr/local/lib/python3.11/dist-packages (from cucim-cu12==25.04.*) (0.25.2)\n",
            "Requirement already satisfied: libraft-cu12==25.4.* in /usr/local/lib/python3.11/dist-packages (from pylibraft-cu12==25.04.*) (25.4.0)\n",
            "Requirement already satisfied: distributed-ucxx-cu12==0.43.* in /usr/local/lib/python3.11/dist-packages (from raft-dask-cu12==25.04.*) (0.43.0)\n",
            "Requirement already satisfied: networkx>=3.2 in /usr/local/lib/python3.11/dist-packages (from nx-cugraph-cu12==25.04.*) (3.5)\n",
            "Requirement already satisfied: libcuvs-cu12==25.4.* in /usr/local/lib/python3.11/dist-packages (from cuvs-cu12==25.4.*->cuml-cu12==25.04.*) (25.4.0)\n",
            "Requirement already satisfied: pynvml<13.0.0a0,>=12.0.0 in /usr/local/lib/python3.11/dist-packages (from dask-cuda==25.4.*->cuml-cu12==25.04.*) (12.0.0)\n",
            "Requirement already satisfied: zict>=2.0.0 in /usr/local/lib/python3.11/dist-packages (from dask-cuda==25.4.*->cuml-cu12==25.04.*) (3.0.0)\n",
            "Requirement already satisfied: ucxx-cu12==0.43.* in /usr/local/lib/python3.11/dist-packages (from distributed-ucxx-cu12==0.43.*->raft-dask-cu12==25.04.*) (0.43.0)\n",
            "Requirement already satisfied: libkvikio-cu12==25.4.* in /usr/local/lib/python3.11/dist-packages (from libcudf-cu12==25.4.*->cudf-cu12==25.04.*) (25.4.0)\n",
            "Requirement already satisfied: librmm-cu12==25.4.* in /usr/local/lib/python3.11/dist-packages (from libcudf-cu12==25.4.*->cudf-cu12==25.04.*) (25.4.0)\n",
            "Requirement already satisfied: nvidia-nvcomp-cu12==4.2.0.11 in /usr/local/lib/python3.11/dist-packages (from libcudf-cu12==25.4.*->cudf-cu12==25.04.*) (4.2.0.11)\n",
            "Requirement already satisfied: rapids-logger==0.1.* in /usr/local/lib/python3.11/dist-packages (from libcudf-cu12==25.4.*->cudf-cu12==25.04.*) (0.1.1)\n",
            "Requirement already satisfied: dask==2025.2.0 in /usr/local/lib/python3.11/dist-packages (from rapids-dask-dependency==25.4.*->cuml-cu12==25.04.*) (2025.2.0)\n",
            "Requirement already satisfied: distributed==2025.2.0 in /usr/local/lib/python3.11/dist-packages (from rapids-dask-dependency==25.4.*->cuml-cu12==25.04.*) (2025.2.0)\n",
            "Requirement already satisfied: libucx-cu12<1.19,>=1.15.0 in /usr/local/lib/python3.11/dist-packages (from ucx-py-cu12==0.43.*->cugraph-cu12==25.04.*) (1.18.1)\n",
            "Requirement already satisfied: cloudpickle>=3.0.0 in /usr/local/lib/python3.11/dist-packages (from dask==2025.2.0->rapids-dask-dependency==25.4.*->cuml-cu12==25.04.*) (3.1.1)\n",
            "Requirement already satisfied: partd>=1.4.0 in /usr/local/lib/python3.11/dist-packages (from dask==2025.2.0->rapids-dask-dependency==25.4.*->cuml-cu12==25.04.*) (1.4.2)\n",
            "Requirement already satisfied: pyyaml>=5.3.1 in /usr/local/lib/python3.11/dist-packages (from dask==2025.2.0->rapids-dask-dependency==25.4.*->cuml-cu12==25.04.*) (6.0.2)\n",
            "Requirement already satisfied: toolz>=0.10.0 in /usr/local/lib/python3.11/dist-packages (from dask==2025.2.0->rapids-dask-dependency==25.4.*->cuml-cu12==25.04.*) (0.12.1)\n",
            "Requirement already satisfied: importlib_metadata>=4.13.0 in /usr/local/lib/python3.11/dist-packages (from dask==2025.2.0->rapids-dask-dependency==25.4.*->cuml-cu12==25.04.*) (8.7.0)\n",
            "Requirement already satisfied: jinja2>=2.10.3 in /usr/local/lib/python3.11/dist-packages (from distributed==2025.2.0->rapids-dask-dependency==25.4.*->cuml-cu12==25.04.*) (3.1.6)\n",
            "Requirement already satisfied: locket>=1.0.0 in /usr/local/lib/python3.11/dist-packages (from distributed==2025.2.0->rapids-dask-dependency==25.4.*->cuml-cu12==25.04.*) (1.0.0)\n",
            "Requirement already satisfied: msgpack>=1.0.2 in /usr/local/lib/python3.11/dist-packages (from distributed==2025.2.0->rapids-dask-dependency==25.4.*->cuml-cu12==25.04.*) (1.1.1)\n",
            "Requirement already satisfied: psutil>=5.8.0 in /usr/local/lib/python3.11/dist-packages (from distributed==2025.2.0->rapids-dask-dependency==25.4.*->cuml-cu12==25.04.*) (5.9.5)\n",
            "Requirement already satisfied: sortedcontainers>=2.0.5 in /usr/local/lib/python3.11/dist-packages (from distributed==2025.2.0->rapids-dask-dependency==25.4.*->cuml-cu12==25.04.*) (2.4.0)\n",
            "Requirement already satisfied: tblib>=1.6.0 in /usr/local/lib/python3.11/dist-packages (from distributed==2025.2.0->rapids-dask-dependency==25.4.*->cuml-cu12==25.04.*) (3.1.0)\n",
            "Requirement already satisfied: tornado>=6.2.0 in /usr/local/lib/python3.11/dist-packages (from distributed==2025.2.0->rapids-dask-dependency==25.4.*->cuml-cu12==25.04.*) (6.4.2)\n",
            "Requirement already satisfied: urllib3>=1.26.5 in /usr/local/lib/python3.11/dist-packages (from distributed==2025.2.0->rapids-dask-dependency==25.4.*->cuml-cu12==25.04.*) (2.5.0)\n",
            "Requirement already satisfied: libucxx-cu12==0.43.* in /usr/local/lib/python3.11/dist-packages (from ucxx-cu12==0.43.*->distributed-ucxx-cu12==0.43.*->raft-dask-cu12==25.04.*) (0.43.0)\n",
            "Requirement already satisfied: aiohappyeyeballs>=2.5.0 in /usr/local/lib/python3.11/dist-packages (from aiohttp) (2.6.1)\n",
            "Requirement already satisfied: aiosignal>=1.4.0 in /usr/local/lib/python3.11/dist-packages (from aiohttp) (1.4.0)\n",
            "Requirement already satisfied: attrs>=17.3.0 in /usr/local/lib/python3.11/dist-packages (from aiohttp) (25.3.0)\n",
            "Requirement already satisfied: frozenlist>=1.1.1 in /usr/local/lib/python3.11/dist-packages (from aiohttp) (1.7.0)\n",
            "Requirement already satisfied: multidict<7.0,>=4.5 in /usr/local/lib/python3.11/dist-packages (from aiohttp) (6.6.4)\n",
            "Requirement already satisfied: propcache>=0.2.0 in /usr/local/lib/python3.11/dist-packages (from aiohttp) (0.3.2)\n",
            "Requirement already satisfied: yarl<2.0,>=1.17.0 in /usr/local/lib/python3.11/dist-packages (from aiohttp) (1.20.1)\n",
            "Requirement already satisfied: contourpy>=1.2 in /usr/local/lib/python3.11/dist-packages (from bokeh<=3.6.3,>=3.1->cuxfilter-cu12==25.04.*) (1.3.3)\n",
            "Requirement already satisfied: pillow>=7.1.0 in /usr/local/lib/python3.11/dist-packages (from bokeh<=3.6.3,>=3.1->cuxfilter-cu12==25.04.*) (11.3.0)\n",
            "Requirement already satisfied: xyzservices>=2021.09.1 in /usr/local/lib/python3.11/dist-packages (from bokeh<=3.6.3,>=3.1->cuxfilter-cu12==25.04.*) (2025.4.0)\n",
            "Requirement already satisfied: fastrlock>=0.5 in /usr/local/lib/python3.11/dist-packages (from cupy-cuda12x>=12.0.0->cudf-cu12==25.04.*) (0.8.3)\n",
            "Requirement already satisfied: colorcet in /usr/local/lib/python3.11/dist-packages (from datashader>=0.15->cuxfilter-cu12==25.04.*) (3.1.0)\n",
            "Requirement already satisfied: multipledispatch in /usr/local/lib/python3.11/dist-packages (from datashader>=0.15->cuxfilter-cu12==25.04.*) (1.0.0)\n",
            "Requirement already satisfied: param in /usr/local/lib/python3.11/dist-packages (from datashader>=0.15->cuxfilter-cu12==25.04.*) (2.2.1)\n",
            "Requirement already satisfied: pyct in /usr/local/lib/python3.11/dist-packages (from datashader>=0.15->cuxfilter-cu12==25.04.*) (0.5.0)\n",
            "Requirement already satisfied: requests in /usr/local/lib/python3.11/dist-packages (from datashader>=0.15->cuxfilter-cu12==25.04.*) (2.32.3)\n",
            "Requirement already satisfied: xarray in /usr/local/lib/python3.11/dist-packages (from datashader>=0.15->cuxfilter-cu12==25.04.*) (2025.7.1)\n",
            "Requirement already satisfied: pyogrio>=0.7.2 in /usr/local/lib/python3.11/dist-packages (from geopandas>=1.0.0->cuspatial-cu12==25.04.*) (0.11.1)\n",
            "Requirement already satisfied: pyproj>=3.5.0 in /usr/local/lib/python3.11/dist-packages (from geopandas>=1.0.0->cuspatial-cu12==25.04.*) (3.7.1)\n",
            "Requirement already satisfied: pyviz-comms>=2.1 in /usr/local/lib/python3.11/dist-packages (from holoviews>=1.16.0->cuxfilter-cu12==25.04.*) (3.0.6)\n",
            "Requirement already satisfied: llvmlite<0.44,>=0.43.0dev0 in /usr/local/lib/python3.11/dist-packages (from numba<0.62.0a0,>=0.59.1->cudf-cu12==25.04.*) (0.43.0)\n",
            "Requirement already satisfied: python-dateutil>=2.8.2 in /usr/local/lib/python3.11/dist-packages (from pandas<2.2.4dev0,>=2.0->cudf-cu12==25.04.*) (2.9.0.post0)\n",
            "Requirement already satisfied: pytz>=2020.1 in /usr/local/lib/python3.11/dist-packages (from pandas<2.2.4dev0,>=2.0->cudf-cu12==25.04.*) (2025.2)\n",
            "Requirement already satisfied: tzdata>=2022.7 in /usr/local/lib/python3.11/dist-packages (from pandas<2.2.4dev0,>=2.0->cudf-cu12==25.04.*) (2025.2)\n",
            "Requirement already satisfied: bleach in /usr/local/lib/python3.11/dist-packages (from panel>=1.0->cuxfilter-cu12==25.04.*) (6.2.0)\n",
            "Requirement already satisfied: linkify-it-py in /usr/local/lib/python3.11/dist-packages (from panel>=1.0->cuxfilter-cu12==25.04.*) (2.0.3)\n",
            "Requirement already satisfied: markdown in /usr/local/lib/python3.11/dist-packages (from panel>=1.0->cuxfilter-cu12==25.04.*) (3.8.2)\n",
            "Requirement already satisfied: markdown-it-py in /usr/local/lib/python3.11/dist-packages (from panel>=1.0->cuxfilter-cu12==25.04.*) (4.0.0)\n",
            "Requirement already satisfied: mdit-py-plugins in /usr/local/lib/python3.11/dist-packages (from panel>=1.0->cuxfilter-cu12==25.04.*) (0.5.0)\n",
            "Requirement already satisfied: tqdm in /usr/local/lib/python3.11/dist-packages (from panel>=1.0->cuxfilter-cu12==25.04.*) (4.67.1)\n",
            "Requirement already satisfied: imageio!=2.35.0,>=2.33 in /usr/local/lib/python3.11/dist-packages (from scikit-image<0.26.0a0,>=0.19.0->cucim-cu12==25.04.*) (2.37.0)\n",
            "Requirement already satisfied: tifffile>=2022.8.12 in /usr/local/lib/python3.11/dist-packages (from scikit-image<0.26.0a0,>=0.19.0->cucim-cu12==25.04.*) (2025.6.11)\n",
            "Requirement already satisfied: idna>=2.0 in /usr/local/lib/python3.11/dist-packages (from yarl<2.0,>=1.17.0->aiohttp) (3.10)\n",
            "Requirement already satisfied: jupyter-server>=1.24.0 in /usr/local/lib/python3.11/dist-packages (from jupyter-server-proxy->cuxfilter-cu12==25.04.*) (2.16.0)\n",
            "Requirement already satisfied: simpervisor>=1.0.0 in /usr/local/lib/python3.11/dist-packages (from jupyter-server-proxy->cuxfilter-cu12==25.04.*) (1.0.0)\n",
            "Requirement already satisfied: traitlets>=5.1.0 in /usr/local/lib/python3.11/dist-packages (from jupyter-server-proxy->cuxfilter-cu12==25.04.*) (5.7.1)\n",
            "Requirement already satisfied: nvidia-nvjitlink-cu12 in /usr/local/lib/python3.11/dist-packages (from nvidia-cufft-cu12->cuml-cu12==25.04.*) (12.5.82)\n",
            "Requirement already satisfied: pygments<3.0.0,>=2.13.0 in /usr/local/lib/python3.11/dist-packages (from rich->cudf-cu12==25.04.*) (2.19.2)\n",
            "Requirement already satisfied: MarkupSafe>=2.0 in /usr/local/lib/python3.11/dist-packages (from jinja2>=2.10.3->distributed==2025.2.0->rapids-dask-dependency==25.4.*->cuml-cu12==25.04.*) (3.0.2)\n",
            "Requirement already satisfied: anyio>=3.1.0 in /usr/local/lib/python3.11/dist-packages (from jupyter-server>=1.24.0->jupyter-server-proxy->cuxfilter-cu12==25.04.*) (4.10.0)\n",
            "Requirement already satisfied: argon2-cffi>=21.1 in /usr/local/lib/python3.11/dist-packages (from jupyter-server>=1.24.0->jupyter-server-proxy->cuxfilter-cu12==25.04.*) (25.1.0)\n",
            "Requirement already satisfied: jupyter-client>=7.4.4 in /usr/local/lib/python3.11/dist-packages (from jupyter-server>=1.24.0->jupyter-server-proxy->cuxfilter-cu12==25.04.*) (8.6.3)\n",
            "Requirement already satisfied: jupyter-core!=5.0.*,>=4.12 in /usr/local/lib/python3.11/dist-packages (from jupyter-server>=1.24.0->jupyter-server-proxy->cuxfilter-cu12==25.04.*) (5.8.1)\n",
            "Requirement already satisfied: jupyter-events>=0.11.0 in /usr/local/lib/python3.11/dist-packages (from jupyter-server>=1.24.0->jupyter-server-proxy->cuxfilter-cu12==25.04.*) (0.12.0)\n",
            "Requirement already satisfied: jupyter-server-terminals>=0.4.4 in /usr/local/lib/python3.11/dist-packages (from jupyter-server>=1.24.0->jupyter-server-proxy->cuxfilter-cu12==25.04.*) (0.5.3)\n",
            "Requirement already satisfied: nbconvert>=6.4.4 in /usr/local/lib/python3.11/dist-packages (from jupyter-server>=1.24.0->jupyter-server-proxy->cuxfilter-cu12==25.04.*) (7.16.6)\n",
            "Requirement already satisfied: nbformat>=5.3.0 in /usr/local/lib/python3.11/dist-packages (from jupyter-server>=1.24.0->jupyter-server-proxy->cuxfilter-cu12==25.04.*) (5.10.4)\n",
            "Requirement already satisfied: overrides>=5.0 in /usr/local/lib/python3.11/dist-packages (from jupyter-server>=1.24.0->jupyter-server-proxy->cuxfilter-cu12==25.04.*) (7.7.0)\n",
            "Requirement already satisfied: prometheus-client>=0.9 in /usr/local/lib/python3.11/dist-packages (from jupyter-server>=1.24.0->jupyter-server-proxy->cuxfilter-cu12==25.04.*) (0.22.1)\n",
            "Requirement already satisfied: pyzmq>=24 in /usr/local/lib/python3.11/dist-packages (from jupyter-server>=1.24.0->jupyter-server-proxy->cuxfilter-cu12==25.04.*) (26.2.1)\n",
            "Requirement already satisfied: send2trash>=1.8.2 in /usr/local/lib/python3.11/dist-packages (from jupyter-server>=1.24.0->jupyter-server-proxy->cuxfilter-cu12==25.04.*) (1.8.3)\n",
            "Requirement already satisfied: terminado>=0.8.3 in /usr/local/lib/python3.11/dist-packages (from jupyter-server>=1.24.0->jupyter-server-proxy->cuxfilter-cu12==25.04.*) (0.18.1)\n",
            "Requirement already satisfied: websocket-client>=1.7 in /usr/local/lib/python3.11/dist-packages (from jupyter-server>=1.24.0->jupyter-server-proxy->cuxfilter-cu12==25.04.*) (1.8.0)\n",
            "Requirement already satisfied: mdurl~=0.1 in /usr/local/lib/python3.11/dist-packages (from markdown-it-py->panel>=1.0->cuxfilter-cu12==25.04.*) (0.1.2)\n",
            "Requirement already satisfied: nvidia-ml-py<13.0.0a0,>=12.0.0 in /usr/local/lib/python3.11/dist-packages (from pynvml<13.0.0a0,>=12.0.0->dask-cuda==25.4.*->cuml-cu12==25.04.*) (12.575.51)\n",
            "Requirement already satisfied: certifi in /usr/local/lib/python3.11/dist-packages (from pyogrio>=0.7.2->geopandas>=1.0.0->cuspatial-cu12==25.04.*) (2025.8.3)\n",
            "Requirement already satisfied: six>=1.5 in /usr/local/lib/python3.11/dist-packages (from python-dateutil>=2.8.2->pandas<2.2.4dev0,>=2.0->cudf-cu12==25.04.*) (1.17.0)\n",
            "Requirement already satisfied: webencodings in /usr/local/lib/python3.11/dist-packages (from bleach->panel>=1.0->cuxfilter-cu12==25.04.*) (0.5.1)\n",
            "Requirement already satisfied: uc-micro-py in /usr/local/lib/python3.11/dist-packages (from linkify-it-py->panel>=1.0->cuxfilter-cu12==25.04.*) (1.0.3)\n",
            "Requirement already satisfied: charset-normalizer<4,>=2 in /usr/local/lib/python3.11/dist-packages (from requests->datashader>=0.15->cuxfilter-cu12==25.04.*) (3.4.3)\n",
            "Requirement already satisfied: sniffio>=1.1 in /usr/local/lib/python3.11/dist-packages (from anyio>=3.1.0->jupyter-server>=1.24.0->jupyter-server-proxy->cuxfilter-cu12==25.04.*) (1.3.1)\n",
            "Requirement already satisfied: argon2-cffi-bindings in /usr/local/lib/python3.11/dist-packages (from argon2-cffi>=21.1->jupyter-server>=1.24.0->jupyter-server-proxy->cuxfilter-cu12==25.04.*) (25.1.0)\n",
            "Requirement already satisfied: zipp>=3.20 in /usr/local/lib/python3.11/dist-packages (from importlib_metadata>=4.13.0->dask==2025.2.0->rapids-dask-dependency==25.4.*->cuml-cu12==25.04.*) (3.23.0)\n",
            "Requirement already satisfied: platformdirs>=2.5 in /usr/local/lib/python3.11/dist-packages (from jupyter-core!=5.0.*,>=4.12->jupyter-server>=1.24.0->jupyter-server-proxy->cuxfilter-cu12==25.04.*) (4.3.8)\n",
            "Requirement already satisfied: jsonschema>=4.18.0 in /usr/local/lib/python3.11/dist-packages (from jsonschema[format-nongpl]>=4.18.0->jupyter-events>=0.11.0->jupyter-server>=1.24.0->jupyter-server-proxy->cuxfilter-cu12==25.04.*) (4.25.0)\n",
            "Requirement already satisfied: python-json-logger>=2.0.4 in /usr/local/lib/python3.11/dist-packages (from jupyter-events>=0.11.0->jupyter-server>=1.24.0->jupyter-server-proxy->cuxfilter-cu12==25.04.*) (3.3.0)\n",
            "Requirement already satisfied: referencing in /usr/local/lib/python3.11/dist-packages (from jupyter-events>=0.11.0->jupyter-server>=1.24.0->jupyter-server-proxy->cuxfilter-cu12==25.04.*) (0.36.2)\n",
            "Requirement already satisfied: rfc3339-validator in /usr/local/lib/python3.11/dist-packages (from jupyter-events>=0.11.0->jupyter-server>=1.24.0->jupyter-server-proxy->cuxfilter-cu12==25.04.*) (0.1.4)\n",
            "Requirement already satisfied: rfc3986-validator>=0.1.1 in /usr/local/lib/python3.11/dist-packages (from jupyter-events>=0.11.0->jupyter-server>=1.24.0->jupyter-server-proxy->cuxfilter-cu12==25.04.*) (0.1.1)\n",
            "Requirement already satisfied: beautifulsoup4 in /usr/local/lib/python3.11/dist-packages (from nbconvert>=6.4.4->jupyter-server>=1.24.0->jupyter-server-proxy->cuxfilter-cu12==25.04.*) (4.13.4)\n",
            "Requirement already satisfied: defusedxml in /usr/local/lib/python3.11/dist-packages (from nbconvert>=6.4.4->jupyter-server>=1.24.0->jupyter-server-proxy->cuxfilter-cu12==25.04.*) (0.7.1)\n",
            "Requirement already satisfied: jupyterlab-pygments in /usr/local/lib/python3.11/dist-packages (from nbconvert>=6.4.4->jupyter-server>=1.24.0->jupyter-server-proxy->cuxfilter-cu12==25.04.*) (0.3.0)\n",
            "Requirement already satisfied: mistune<4,>=2.0.3 in /usr/local/lib/python3.11/dist-packages (from nbconvert>=6.4.4->jupyter-server>=1.24.0->jupyter-server-proxy->cuxfilter-cu12==25.04.*) (3.1.3)\n",
            "Requirement already satisfied: nbclient>=0.5.0 in /usr/local/lib/python3.11/dist-packages (from nbconvert>=6.4.4->jupyter-server>=1.24.0->jupyter-server-proxy->cuxfilter-cu12==25.04.*) (0.10.2)\n",
            "Requirement already satisfied: pandocfilters>=1.4.1 in /usr/local/lib/python3.11/dist-packages (from nbconvert>=6.4.4->jupyter-server>=1.24.0->jupyter-server-proxy->cuxfilter-cu12==25.04.*) (1.5.1)\n",
            "Requirement already satisfied: fastjsonschema>=2.15 in /usr/local/lib/python3.11/dist-packages (from nbformat>=5.3.0->jupyter-server>=1.24.0->jupyter-server-proxy->cuxfilter-cu12==25.04.*) (2.21.1)\n",
            "Requirement already satisfied: ptyprocess in /usr/local/lib/python3.11/dist-packages (from terminado>=0.8.3->jupyter-server>=1.24.0->jupyter-server-proxy->cuxfilter-cu12==25.04.*) (0.7.0)\n",
            "Requirement already satisfied: tinycss2<1.5,>=1.1.0 in /usr/local/lib/python3.11/dist-packages (from bleach[css]!=5.0.0->nbconvert>=6.4.4->jupyter-server>=1.24.0->jupyter-server-proxy->cuxfilter-cu12==25.04.*) (1.4.0)\n",
            "Requirement already satisfied: jsonschema-specifications>=2023.03.6 in /usr/local/lib/python3.11/dist-packages (from jsonschema>=4.18.0->jsonschema[format-nongpl]>=4.18.0->jupyter-events>=0.11.0->jupyter-server>=1.24.0->jupyter-server-proxy->cuxfilter-cu12==25.04.*) (2025.4.1)\n",
            "Requirement already satisfied: rpds-py>=0.7.1 in /usr/local/lib/python3.11/dist-packages (from jsonschema>=4.18.0->jsonschema[format-nongpl]>=4.18.0->jupyter-events>=0.11.0->jupyter-server>=1.24.0->jupyter-server-proxy->cuxfilter-cu12==25.04.*) (0.27.0)\n",
            "Requirement already satisfied: fqdn in /usr/local/lib/python3.11/dist-packages (from jsonschema[format-nongpl]>=4.18.0->jupyter-events>=0.11.0->jupyter-server>=1.24.0->jupyter-server-proxy->cuxfilter-cu12==25.04.*) (1.5.1)\n",
            "Requirement already satisfied: isoduration in /usr/local/lib/python3.11/dist-packages (from jsonschema[format-nongpl]>=4.18.0->jupyter-events>=0.11.0->jupyter-server>=1.24.0->jupyter-server-proxy->cuxfilter-cu12==25.04.*) (20.11.0)\n",
            "Requirement already satisfied: jsonpointer>1.13 in /usr/local/lib/python3.11/dist-packages (from jsonschema[format-nongpl]>=4.18.0->jupyter-events>=0.11.0->jupyter-server>=1.24.0->jupyter-server-proxy->cuxfilter-cu12==25.04.*) (3.0.0)\n",
            "Requirement already satisfied: rfc3987-syntax>=1.1.0 in /usr/local/lib/python3.11/dist-packages (from jsonschema[format-nongpl]>=4.18.0->jupyter-events>=0.11.0->jupyter-server>=1.24.0->jupyter-server-proxy->cuxfilter-cu12==25.04.*) (1.1.0)\n",
            "Requirement already satisfied: uri-template in /usr/local/lib/python3.11/dist-packages (from jsonschema[format-nongpl]>=4.18.0->jupyter-events>=0.11.0->jupyter-server>=1.24.0->jupyter-server-proxy->cuxfilter-cu12==25.04.*) (1.3.0)\n",
            "Requirement already satisfied: webcolors>=24.6.0 in /usr/local/lib/python3.11/dist-packages (from jsonschema[format-nongpl]>=4.18.0->jupyter-events>=0.11.0->jupyter-server>=1.24.0->jupyter-server-proxy->cuxfilter-cu12==25.04.*) (24.11.1)\n",
            "Requirement already satisfied: cffi>=1.0.1 in /usr/local/lib/python3.11/dist-packages (from argon2-cffi-bindings->argon2-cffi>=21.1->jupyter-server>=1.24.0->jupyter-server-proxy->cuxfilter-cu12==25.04.*) (1.17.1)\n",
            "Requirement already satisfied: soupsieve>1.2 in /usr/local/lib/python3.11/dist-packages (from beautifulsoup4->nbconvert>=6.4.4->jupyter-server>=1.24.0->jupyter-server-proxy->cuxfilter-cu12==25.04.*) (2.7)\n",
            "Requirement already satisfied: pycparser in /usr/local/lib/python3.11/dist-packages (from cffi>=1.0.1->argon2-cffi-bindings->argon2-cffi>=21.1->jupyter-server>=1.24.0->jupyter-server-proxy->cuxfilter-cu12==25.04.*) (2.22)\n",
            "Requirement already satisfied: lark>=1.2.2 in /usr/local/lib/python3.11/dist-packages (from rfc3987-syntax>=1.1.0->jsonschema[format-nongpl]>=4.18.0->jupyter-events>=0.11.0->jupyter-server>=1.24.0->jupyter-server-proxy->cuxfilter-cu12==25.04.*) (1.2.2)\n",
            "Requirement already satisfied: arrow>=0.15.0 in /usr/local/lib/python3.11/dist-packages (from isoduration->jsonschema[format-nongpl]>=4.18.0->jupyter-events>=0.11.0->jupyter-server>=1.24.0->jupyter-server-proxy->cuxfilter-cu12==25.04.*) (1.3.0)\n",
            "Requirement already satisfied: types-python-dateutil>=2.8.10 in /usr/local/lib/python3.11/dist-packages (from arrow>=0.15.0->isoduration->jsonschema[format-nongpl]>=4.18.0->jupyter-events>=0.11.0->jupyter-server>=1.24.0->jupyter-server-proxy->cuxfilter-cu12==25.04.*) (2.9.0.20250809)\n",
            "\n",
            "        ***********************************************************************\n",
            "        The pip install of RAPIDS is complete.\n",
            "\n",
            "        Please do not run any further installation from the conda based installation methods, as they may cause issues!\n",
            "\n",
            "        Please ensure that you're pulling from the git repo to remain updated with the latest working install scripts.\n",
            "\n",
            "        Troubleshooting:\n",
            "            - If there is an installation failure, please check back on RAPIDSAI owned templates/notebooks to see how to update your personal files.\n",
            "            - If an installation failure persists when using the latest script, please make an issue on https://github.com/rapidsai-community/rapidsai-csp-utils\n",
            "        ***********************************************************************\n",
            "        \n"
          ]
        }
      ],
      "source": [
        "!git clone https://github.com/rapidsai/rapidsai-csp-utils.git\n",
        "!python rapidsai-csp-utils/colab/pip-install.py --quiet"
      ]
    },
    {
      "cell_type": "markdown",
      "metadata": {
        "id": "Xh4saIBN4ymJ"
      },
      "source": [
        "اتصال به اکانت گوگل برای دسترسی به گوگل درایو"
      ]
    },
    {
      "cell_type": "code",
      "execution_count": null,
      "metadata": {
        "colab": {
          "base_uri": "https://localhost:8080/"
        },
        "id": "Htmr2yJkALsO",
        "outputId": "b425605d-e5f7-499b-81f9-c457edbe0d36"
      },
      "outputs": [
        {
          "name": "stdout",
          "output_type": "stream",
          "text": [
            "Mounted at /content/drive\n"
          ]
        }
      ],
      "source": [
        "from google.colab import drive\n",
        "drive.mount('/content/drive')"
      ]
    },
    {
      "cell_type": "markdown",
      "metadata": {
        "id": "liQYm3MA47D5"
      },
      "source": [
        "کپی دیتا ست مورد نظر از گوگل درایو به پوشه کانتنت"
      ]
    },
    {
      "cell_type": "code",
      "execution_count": null,
      "metadata": {
        "id": "MHPq0B5FAYM7"
      },
      "outputs": [],
      "source": [
        "!cp '/content/drive/MyDrive/Colab_Notebooks/TrafficEvents_Aug16_Dec20_Publish.tar.gz' /content/"
      ]
    },
    {
      "cell_type": "markdown",
      "metadata": {
        "id": "nEg3ASL65FX6"
      },
      "source": [
        "خارج کردن فایل از حالت فشرده"
      ]
    },
    {
      "cell_type": "code",
      "execution_count": null,
      "metadata": {
        "colab": {
          "background_save": true,
          "base_uri": "https://localhost:8080/"
        },
        "id": "1Zm7AH3IBC9X",
        "outputId": "a881a7be-1bf6-4fba-afba-dab07ee1145c"
      },
      "outputs": [
        {
          "name": "stdout",
          "output_type": "stream",
          "text": [
            "TrafficEvents_Aug16_Dec20_Publish.csv\n"
          ]
        }
      ],
      "source": [
        "!tar -xvzf TrafficEvents_Aug16_Dec20_Publish.tar.gz -C /content/"
      ]
    },
    {
      "cell_type": "markdown",
      "metadata": {
        "id": "pQ5hRvuX5U3n"
      },
      "source": [
        "ایمپورت کتابخونه های cudf و dask برای کار با دیتاست بزرگ بر روی gpu"
      ]
    },
    {
      "cell_type": "code",
      "execution_count": null,
      "metadata": {
        "colab": {
          "background_save": true
        },
        "id": "G4RP9un1A-as"
      },
      "outputs": [],
      "source": [
        "import cudf\n",
        "import cuml\n",
        "import numpy as np\n",
        "import matplotlib.pyplot as plt\n",
        "import seaborn as sns\n",
        "import plotly.express as px\n",
        "import pandas as pd\n",
        "import dask.dataframe as dd"
      ]
    },
    {
      "cell_type": "markdown",
      "metadata": {
        "id": "JA3aL1zf6nEt"
      },
      "source": [
        "استفاده از کتابخونه dask برای خواندن از فایل"
      ]
    },
    {
      "cell_type": "code",
      "execution_count": null,
      "metadata": {
        "colab": {
          "background_save": true
        },
        "id": "iUNayjWbsgq4",
        "outputId": "b38ee052-3518-45bd-9482-bed09c2ec978"
      },
      "outputs": [
        {
          "name": "stdout",
          "output_type": "stream",
          "text": [
            "Index(['EventId', 'Type', 'Severity', 'TMC', 'Description', 'StartTime(UTC)',\n",
            "       'EndTime(UTC)', 'TimeZone', 'LocationLat', 'LocationLng',\n",
            "       'Distance(mi)', 'AirportCode', 'Number', 'Street', 'Side', 'City',\n",
            "       'County', 'State', 'ZipCode'],\n",
            "      dtype='object')\n"
          ]
        }
      ],
      "source": [
        "ddf = dd.read_csv('/content/TrafficEvents_Aug16_Dec20_Publish.csv')\n",
        "print(ddf.columns)"
      ]
    },
    {
      "cell_type": "markdown",
      "metadata": {
        "id": "rGVSDOw6625V"
      },
      "source": [
        "استفاده از کتابخونه cudf برای خواندن ستونهای مورد نیاز از فایل"
      ]
    },
    {
      "cell_type": "code",
      "execution_count": null,
      "metadata": {
        "id": "dgGu4aiQjuH-"
      },
      "outputs": [],
      "source": [
        "df = cudf.read_csv(\n",
        "    '/content/TrafficEvents_Aug16_Dec20_Publish.csv',\n",
        "    dtype={'City': 'category', 'LocationLat': 'float32', 'LocationLng': 'float32'},\n",
        "    usecols=['EventId','City', 'LocationLat','LocationLng']\n",
        ")\n",
        "\n",
        "# محاسبه آمار برای هر شهر\n",
        "stats = df.groupby('City').agg(\n",
        "    meanLat=('LocationLat', 'mean'),\n",
        "    stdLat=('LocationLat', 'std'),\n",
        "    meanLng=('LocationLng', 'mean'),\n",
        "    stdLng=('LocationLng', 'std')\n",
        ").reset_index()\n",
        "\n",
        "# پر کردن NaN\n",
        "stats['stdLat'] = stats['stdLat'].fillna(1)\n",
        "stats['stdLng'] = stats['stdLng'].fillna(1)\n",
        "\n",
        "# merge و محاسبه\n",
        "df = df.merge(stats, on='City', how='left')\n",
        "df['distanceFromMeanLat'] = (df['LocationLat'] - df['meanLat']) / df['stdLat']\n",
        "df['distanceFromMeanLng'] = (df['LocationLng'] - df['meanLng']) / df['stdLng']\n",
        "\n",
        "print(df)"
      ]
    },
    {
      "cell_type": "code",
      "execution_count": null,
      "metadata": {
        "colab": {
          "background_save": true
        },
        "id": "GT9sFMxqxCYQ",
        "outputId": "802c33b8-43c0-4a51-a4f9-a5196d34f938"
      },
      "outputs": [
        {
          "name": "stdout",
          "output_type": "stream",
          "text": [
            "             EventId  LocationLat  LocationLng             City    meanLat  \\\n",
            "72           T-41208    37.442997  -121.890564         Milpitas  37.430229   \n",
            "359          T-43191    36.848618  -121.771164     Moss Landing  36.824455   \n",
            "456          T-39160    38.406509  -121.910011        Vacaville  38.374549   \n",
            "500          T-41572    38.207676  -122.156708  American Canyon  38.187835   \n",
            "654          T-46462    37.242973  -121.964859        Los Gatos  37.195001   \n",
            "...              ...          ...          ...              ...        ...   \n",
            "31355418  T-31957480    33.870693  -117.742424          Anaheim  33.822793   \n",
            "31355426  T-31957488    33.870941  -117.740051          Anaheim  33.822793   \n",
            "31355477  T-31957043    34.108128  -118.185585      Los Angeles  34.003707   \n",
            "31355503  T-31957133    34.073830  -118.233261      Los Angeles  34.003707   \n",
            "31355566  T-31957019    33.989296  -118.219345  Huntington Park  33.979496   \n",
            "\n",
            "            stdLat     meanLng    stdLng  distanceFromMeanLat  \\\n",
            "72        0.012384 -121.907046  0.015764             1.030984   \n",
            "359       0.021530 -121.778319  0.006535             1.122296   \n",
            "456       0.031153 -121.959139  0.040353             1.025895   \n",
            "500       0.019505 -122.226859  0.039287             1.017216   \n",
            "654       0.045441 -121.993863  0.023187             1.055709   \n",
            "...            ...         ...       ...                  ...   \n",
            "31355418  0.034088 -117.879543  0.111189             1.405179   \n",
            "31355426  0.034088 -117.879543  0.111189             1.412453   \n",
            "31355477  0.060953 -119.344724  1.046540             1.713131   \n",
            "31355503  0.060953 -119.344724  1.046540             1.150437   \n",
            "31355566  0.007537 -118.230065  0.009792             1.300294   \n",
            "\n",
            "          distanceFromMeanLng  \n",
            "72                   1.045550  \n",
            "359                  1.094823  \n",
            "456                  1.217441  \n",
            "500                  1.785587  \n",
            "654                  1.250880  \n",
            "...                       ...  \n",
            "31355418             1.233209  \n",
            "31355426             1.254549  \n",
            "31355477             1.107591  \n",
            "31355503             1.062035  \n",
            "31355566             1.094672  \n",
            "\n",
            "[867416 rows x 10 columns]\n"
          ]
        }
      ],
      "source": [
        "filtered_df = df[(df[\"distanceFromMeanLat\"] > 1.0) & (df[\"distanceFromMeanLng\"] > 1.0)]\n",
        "print(filtered_df)"
      ]
    },
    {
      "cell_type": "code",
      "execution_count": null,
      "metadata": {
        "id": "lGRdYAeuzC8D"
      },
      "outputs": [],
      "source": [
        "# محاسبه تعداد outlierها\n",
        "outlier_count = (\n",
        "    filtered_df.groupby(\"City\")\n",
        "               .agg(outlierCount=(\"EventId\", \"count\"))\n",
        "               .reset_index()\n",
        ")\n",
        "print(outlier_count)"
      ]
    },
    {
      "cell_type": "code",
      "execution_count": null,
      "metadata": {
        "colab": {
          "background_save": true
        },
        "id": "vRUajssL3lFH"
      },
      "outputs": [],
      "source": [
        "eventIds=filtered_df[\"EventId\"].to_arrow().to_pylist()\n",
        "print(eventIds)\n"
      ]
    },
    {
      "cell_type": "code",
      "execution_count": null,
      "metadata": {
        "colab": {
          "background_save": true
        },
        "id": "jHHpXVYl4Uad",
        "outputId": "f2a568e5-da70-4575-bdc6-a67d5cf44af9"
      },
      "outputs": [
        {
          "name": "stdout",
          "output_type": "stream",
          "text": [
            "867500\n"
          ]
        }
      ],
      "source": [
        "print(len(eventIds))"
      ]
    }
  ],
  "metadata": {
    "accelerator": "GPU",
    "colab": {
      "gpuType": "T4",
      "provenance": []
    },
    "kernelspec": {
      "display_name": "Python 3",
      "name": "python3"
    },
    "language_info": {
      "name": "python"
    }
  },
  "nbformat": 4,
  "nbformat_minor": 0
}